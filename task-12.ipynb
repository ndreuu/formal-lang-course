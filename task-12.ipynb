{
 "cells": [
  {
   "cell_type": "code",
   "execution_count": 1,
   "id": "34cfd144",
   "metadata": {},
   "outputs": [
    {
     "name": "stdout",
     "output_type": "stream",
     "text": [
      "3.10.6\n"
     ]
    }
   ],
   "source": [
    "import logging\n",
    "from platform import python_version\n",
    "logging.disable(logging.INFO)\n",
    "print(python_version())"
   ]
  },
  {
   "cell_type": "code",
   "execution_count": 2,
   "id": "94fe0a23",
   "metadata": {},
   "outputs": [
    {
     "name": "stdout",
     "output_type": "stream",
     "text": [
      "Architecture:            x86_64\n",
      "  CPU op-mode(s):        32-bit, 64-bit\n",
      "  Address sizes:         48 bits physical, 48 bits virtual\n",
      "  Byte Order:            Little Endian\n",
      "CPU(s):                  6\n",
      "  On-line CPU(s) list:   0-5\n",
      "Vendor ID:               AuthenticAMD\n",
      "  Model name:            AMD Ryzen 5 4500U with Radeon Graphics\n",
      "    CPU family:          23\n",
      "    Model:               96\n",
      "    Thread(s) per core:  1\n",
      "    Core(s) per socket:  6\n",
      "    Socket(s):           1\n",
      "    Stepping:            1\n",
      "    Frequency boost:     enabled\n",
      "    CPU max MHz:         2375,0000\n",
      "    CPU min MHz:         1400,0000\n",
      "    BogoMIPS:            4741.58\n",
      "    Flags:               fpu vme de pse tsc msr pae mce cx8 apic sep mtrr pge mc\n",
      "                         a cmov pat pse36 clflush mmx fxsr sse sse2 ht syscall n\n",
      "                         x mmxext fxsr_opt pdpe1gb rdtscp lm constant_tsc rep_go\n",
      "                         od nopl nonstop_tsc cpuid extd_apicid aperfmperf rapl p\n",
      "                         ni pclmulqdq monitor ssse3 fma cx16 sse4_1 sse4_2 movbe\n",
      "                          popcnt aes xsave avx f16c rdrand lahf_lm cmp_legacy sv\n",
      "                         m extapic cr8_legacy abm sse4a misalignsse 3dnowprefetc\n",
      "                         h osvw ibs skinit wdt tce topoext perfctr_core perfctr_\n",
      "                         nb bpext perfctr_llc mwaitx cpb cat_l3 cdp_l3 hw_pstate\n",
      "                          ssbd mba ibrs ibpb stibp vmmcall fsgsbase bmi1 avx2 sm\n",
      "                         ep bmi2 cqm rdt_a rdseed adx smap clflushopt clwb sha_n\n",
      "                         i xsaveopt xsavec xgetbv1 xsaves cqm_llc cqm_occup_llc \n",
      "                         cqm_mbm_total cqm_mbm_local clzero irperf xsaveerptr rd\n",
      "                         pru wbnoinvd cppc arat npt lbrv svm_lock nrip_save tsc_\n",
      "                         scale vmcb_clean flushbyasid decodeassists pausefilter \n",
      "                         pfthreshold avic v_vmsave_vmload vgif v_spec_ctrl umip \n",
      "                         rdpid overflow_recov succor smca\n",
      "Virtualization features: \n",
      "  Virtualization:        AMD-V\n",
      "Caches (sum of all):     \n",
      "  L1d:                   192 KiB (6 instances)\n",
      "  L1i:                   192 KiB (6 instances)\n",
      "  L2:                    3 MiB (6 instances)\n",
      "  L3:                    8 MiB (2 instances)\n",
      "NUMA:                    \n",
      "  NUMA node(s):          1\n",
      "  NUMA node0 CPU(s):     0-5\n",
      "Vulnerabilities:         \n",
      "  Itlb multihit:         Not affected\n",
      "  L1tf:                  Not affected\n",
      "  Mds:                   Not affected\n",
      "  Meltdown:              Not affected\n",
      "  Mmio stale data:       Not affected\n",
      "  Retbleed:              Mitigation; untrained return thunk; SMT disabled\n",
      "  Spec store bypass:     Mitigation; Speculative Store Bypass disabled via prctl\n",
      "                          and seccomp\n",
      "  Spectre v1:            Mitigation; usercopy/swapgs barriers and __user pointer\n",
      "                          sanitization\n",
      "  Spectre v2:            Mitigation; Retpolines, IBPB conditional, STIBP disable\n",
      "                         d, RSB filling, PBRSB-eIBRS Not affected\n",
      "  Srbds:                 Not affected\n",
      "  Tsx async abort:       Not affected\n",
      "zsh:1: no such file or directory: /usr/local/cuda/bin/nvcc\n",
      "zsh:1: command not found: nvidia-smi\n",
      "MemTotal:       15732172 kB\n"
     ]
    }
   ],
   "source": [
    "!lscpu\n",
    "!/usr/local/cuda/bin/nvcc --version\n",
    "!nvidia-smi\n",
    "!grep MemTotal /proc/meminfo"
   ]
  },
  {
   "cell_type": "code",
   "execution_count": 3,
   "id": "45e177f2",
   "metadata": {},
   "outputs": [
    {
     "name": "stdout",
     "output_type": "stream",
     "text": [
      "Requirement already satisfied: antlr4-python3-runtime in ./venv/lib/python3.10/site-packages (from -r requirements.txt (line 1)) (4.11.1)\n",
      "Requirement already satisfied: black in ./venv/lib/python3.10/site-packages (from -r requirements.txt (line 2)) (22.12.0)\n",
      "Requirement already satisfied: cfpq-data in ./venv/lib/python3.10/site-packages (from -r requirements.txt (line 3)) (4.0.2)\n",
      "Requirement already satisfied: pre-commit in ./venv/lib/python3.10/site-packages (from -r requirements.txt (line 4)) (2.20.0)\n",
      "Requirement already satisfied: pydot in ./venv/lib/python3.10/site-packages (from -r requirements.txt (line 5)) (1.4.2)\n",
      "Requirement already satisfied: pytest==7.1.3 in ./venv/lib/python3.10/site-packages (from -r requirements.txt (line 6)) (7.1.3)\n",
      "Requirement already satisfied: scipy in ./venv/lib/python3.10/site-packages (from -r requirements.txt (line 7)) (1.9.3)\n",
      "Requirement already satisfied: pycubool in ./venv/lib/python3.10/site-packages (from -r requirements.txt (line 8)) (1.2.0)\n",
      "Requirement already satisfied: py>=1.8.2 in ./venv/lib/python3.10/site-packages (from pytest==7.1.3->-r requirements.txt (line 6)) (1.11.0)\n",
      "Requirement already satisfied: iniconfig in ./venv/lib/python3.10/site-packages (from pytest==7.1.3->-r requirements.txt (line 6)) (1.1.1)\n",
      "Requirement already satisfied: tomli>=1.0.0 in ./venv/lib/python3.10/site-packages (from pytest==7.1.3->-r requirements.txt (line 6)) (2.0.1)\n",
      "Requirement already satisfied: packaging in ./venv/lib/python3.10/site-packages (from pytest==7.1.3->-r requirements.txt (line 6)) (22.0)\n",
      "Requirement already satisfied: attrs>=19.2.0 in ./venv/lib/python3.10/site-packages (from pytest==7.1.3->-r requirements.txt (line 6)) (22.1.0)\n",
      "Requirement already satisfied: pluggy<2.0,>=0.12 in ./venv/lib/python3.10/site-packages (from pytest==7.1.3->-r requirements.txt (line 6)) (1.0.0)\n",
      "Requirement already satisfied: click>=8.0.0 in ./venv/lib/python3.10/site-packages (from black->-r requirements.txt (line 2)) (8.1.3)\n",
      "Requirement already satisfied: platformdirs>=2 in ./venv/lib/python3.10/site-packages (from black->-r requirements.txt (line 2)) (2.6.0)\n",
      "Requirement already satisfied: pathspec>=0.9.0 in ./venv/lib/python3.10/site-packages (from black->-r requirements.txt (line 2)) (0.10.3)\n",
      "Requirement already satisfied: mypy-extensions>=0.4.3 in ./venv/lib/python3.10/site-packages (from black->-r requirements.txt (line 2)) (0.4.3)\n",
      "Requirement already satisfied: pyformlang==1.0.1 in ./venv/lib/python3.10/site-packages (from cfpq-data->-r requirements.txt (line 3)) (1.0.1)\n",
      "Requirement already satisfied: pandas==1.3.4 in ./venv/lib/python3.10/site-packages (from cfpq-data->-r requirements.txt (line 3)) (1.3.4)\n",
      "Requirement already satisfied: requests==2.26.0 in ./venv/lib/python3.10/site-packages (from cfpq-data->-r requirements.txt (line 3)) (2.26.0)\n",
      "Requirement already satisfied: rdflib==6.0.0 in ./venv/lib/python3.10/site-packages (from cfpq-data->-r requirements.txt (line 3)) (6.0.0)\n",
      "Requirement already satisfied: networkx==2.6.2 in ./venv/lib/python3.10/site-packages (from cfpq-data->-r requirements.txt (line 3)) (2.6.2)\n",
      "Requirement already satisfied: python-dateutil>=2.7.3 in ./venv/lib/python3.10/site-packages (from pandas==1.3.4->cfpq-data->-r requirements.txt (line 3)) (2.8.2)\n",
      "Requirement already satisfied: numpy>=1.21.0 in ./venv/lib/python3.10/site-packages (from pandas==1.3.4->cfpq-data->-r requirements.txt (line 3)) (1.23.5)\n",
      "Requirement already satisfied: pytz>=2017.3 in ./venv/lib/python3.10/site-packages (from pandas==1.3.4->cfpq-data->-r requirements.txt (line 3)) (2022.6)\n",
      "Requirement already satisfied: setuptools in ./venv/lib/python3.10/site-packages (from rdflib==6.0.0->cfpq-data->-r requirements.txt (line 3)) (65.5.1)\n",
      "Requirement already satisfied: pyparsing in ./venv/lib/python3.10/site-packages (from rdflib==6.0.0->cfpq-data->-r requirements.txt (line 3)) (3.0.9)\n",
      "Requirement already satisfied: isodate in ./venv/lib/python3.10/site-packages (from rdflib==6.0.0->cfpq-data->-r requirements.txt (line 3)) (0.6.1)\n",
      "Requirement already satisfied: urllib3<1.27,>=1.21.1 in ./venv/lib/python3.10/site-packages (from requests==2.26.0->cfpq-data->-r requirements.txt (line 3)) (1.26.13)\n",
      "Requirement already satisfied: certifi>=2017.4.17 in ./venv/lib/python3.10/site-packages (from requests==2.26.0->cfpq-data->-r requirements.txt (line 3)) (2022.12.7)\n",
      "Requirement already satisfied: idna<4,>=2.5 in ./venv/lib/python3.10/site-packages (from requests==2.26.0->cfpq-data->-r requirements.txt (line 3)) (3.4)\n",
      "Requirement already satisfied: charset-normalizer~=2.0.0 in ./venv/lib/python3.10/site-packages (from requests==2.26.0->cfpq-data->-r requirements.txt (line 3)) (2.0.12)\n",
      "Requirement already satisfied: pyyaml>=5.1 in ./venv/lib/python3.10/site-packages (from pre-commit->-r requirements.txt (line 4)) (6.0)\n",
      "Requirement already satisfied: cfgv>=2.0.0 in ./venv/lib/python3.10/site-packages (from pre-commit->-r requirements.txt (line 4)) (3.3.1)\n",
      "Requirement already satisfied: identify>=1.0.0 in ./venv/lib/python3.10/site-packages (from pre-commit->-r requirements.txt (line 4)) (2.5.9)\n",
      "Requirement already satisfied: toml in ./venv/lib/python3.10/site-packages (from pre-commit->-r requirements.txt (line 4)) (0.10.2)\n",
      "Requirement already satisfied: virtualenv>=20.0.8 in ./venv/lib/python3.10/site-packages (from pre-commit->-r requirements.txt (line 4)) (20.17.1)\n",
      "Requirement already satisfied: nodeenv>=0.11.1 in ./venv/lib/python3.10/site-packages (from pre-commit->-r requirements.txt (line 4)) (1.7.0)\n",
      "Requirement already satisfied: distlib<1,>=0.3.6 in ./venv/lib/python3.10/site-packages (from virtualenv>=20.0.8->pre-commit->-r requirements.txt (line 4)) (0.3.6)\n",
      "Requirement already satisfied: filelock<4,>=3.4.1 in ./venv/lib/python3.10/site-packages (from virtualenv>=20.0.8->pre-commit->-r requirements.txt (line 4)) (3.8.2)\n",
      "Requirement already satisfied: six>=1.5 in ./venv/lib/python3.10/site-packages (from python-dateutil>=2.7.3->pandas==1.3.4->cfpq-data->-r requirements.txt (line 3)) (1.16.0)\n"
     ]
    }
   ],
   "source": [
    "!pip install -r requirements.txt"
   ]
  },
  {
   "cell_type": "code",
   "execution_count": 4,
   "id": "65305b36",
   "metadata": {},
   "outputs": [
    {
     "name": "stdout",
     "output_type": "stream",
     "text": [
      "import sources directory\n"
     ]
    }
   ],
   "source": [
    "\n",
    "\n",
    "import numpy as np\n",
    "import project.graph_utils\n",
    "\n"
   ]
  },
  {
   "cell_type": "code",
   "execution_count": 5,
   "id": "36fa710a",
   "metadata": {},
   "outputs": [],
   "source": [
    "import string\n",
    "\n",
    "class Graph:\n",
    "  def __init__(self, name, graph, nodes_num=0, edges_num=0, labels=[]):\n",
    "    self.name = name\n",
    "    self.graph = graph\n",
    "    self.nodes_num = nodes_num\n",
    "    self.edges_num = edges_num\n",
    "    self.labels = labels\n",
    "    self.labels_num = len(labels)\n",
    "\n",
    "    \n",
    "def graph_info(graph_name: string):\n",
    "    graph_path = cfpq_data.download(graph_name)\n",
    "    graph = cfpq_data.graph_from_csv(graph_path)\n",
    "    nodes_num = graph.number_of_nodes()\n",
    "    edges_num = graph.number_of_edges()\n",
    "    labels = []\n",
    "    for edge in graph.edges(data=True):\n",
    "        if edge[2][\"label\"] not in labels:\n",
    "            labels.append(edge[2][\"label\"])\n",
    "    return graph, nodes_num, edges_num, labels\n",
    "\n"
   ]
  },
  {
   "cell_type": "code",
   "execution_count": null,
   "id": "7ec12bc5",
   "metadata": {},
   "outputs": [],
   "source": []
  },
  {
   "cell_type": "code",
   "execution_count": null,
   "id": "3eae5523",
   "metadata": {},
   "outputs": [],
   "source": []
  },
  {
   "cell_type": "code",
   "execution_count": 6,
   "id": "83ca6a94",
   "metadata": {},
   "outputs": [],
   "source": [
    "rdf_names = [\n",
    "             'core', \n",
    "             'enzyme', \n",
    "             'foaf', \n",
    "             'funding', \n",
    "             'generations', \n",
    "             'geospecies', \n",
    "             'go',  \n",
    "             'pathways', \n",
    "             'pizza', \n",
    "             'skos', \n",
    "             'travel',  \n",
    "             'wine',\n",
    "             \n",
    "]\n",
    "\n",
    "с_alias_names = [\n",
    "    'wc',\n",
    "    'gzip',\n",
    "    'pr',\n",
    "    'bzip',\n",
    "]\n",
    "\n",
    "java_analys_names = [\n",
    "    'lusearch',\n",
    "    'sunflow',\n",
    "]"
   ]
  },
  {
   "cell_type": "code",
   "execution_count": null,
   "id": "651b42a3",
   "metadata": {},
   "outputs": [],
   "source": [
    "import cfpq_data\n",
    "graphs_ = {'RDF': {}, 'C': {}, 'Java':{}}\n",
    "for name in rdf_names:\n",
    "    try:\n",
    "        graph, nodes_num, edges_num, labels = graph_info(name)\n",
    "        graphs_['RDF'][name] = Graph(name, graph, nodes_num, edges_num, (labels))\n",
    "    except:\n",
    "        print(\"RDF:: \" + \"Graph with name \" + name + \" does not exist\")\n",
    "        \n",
    "for name in с_alias_names:\n",
    "    try:\n",
    "        graph, nodes_num, edges_num, labels = graph_info(name)\n",
    "        graphs_['C'][name] = Graph(name, graph, nodes_num, edges_num, (labels))\n",
    "    except:\n",
    "        print(\"C:: \" + \"Graph with name \" + name + \" does not exist\")\n",
    "        \n",
    "for name in java_analys_names:\n",
    "    try:\n",
    "        graph, nodes_num, edges_num, labels = graph_info(name)\n",
    "        graphs_['Java'][name] = Graph(name, graph, nodes_num, edges_num, (labels))\n",
    "    except:\n",
    "        print(\"Java:: \" + \"Graph with name \" + name + \" does not exist\")"
   ]
  },
  {
   "cell_type": "code",
   "execution_count": null,
   "id": "e596924b",
   "metadata": {},
   "outputs": [],
   "source": [
    "import pandas as pd"
   ]
  },
  {
   "cell_type": "code",
   "execution_count": null,
   "id": "fd40c5ce",
   "metadata": {},
   "outputs": [],
   "source": [
    "data = {name: [graph.nodes_num, graph.edges_num, graph.labels_num] for name, graph in graphs_['RDF'].items()}\n",
    "columns = ['Nodes number', 'Edges number', 'Labels number']\n",
    "\n",
    "graph_info = pd.DataFrame.from_dict(data, orient='index', columns=columns)\n",
    "graph_info"
   ]
  },
  {
   "cell_type": "code",
   "execution_count": null,
   "id": "30e8c35b",
   "metadata": {},
   "outputs": [],
   "source": []
  },
  {
   "cell_type": "code",
   "execution_count": null,
   "id": "9b9f243a",
   "metadata": {},
   "outputs": [],
   "source": []
  },
  {
   "cell_type": "code",
   "execution_count": null,
   "id": "fce52f9f",
   "metadata": {},
   "outputs": [],
   "source": []
  },
  {
   "cell_type": "code",
   "execution_count": null,
   "id": "2e0bdf23",
   "metadata": {},
   "outputs": [],
   "source": [
    "data = {name: [graph.nodes_num, graph.edges_num, graph.labels_num] for name, graph in graphs_['C'].items()}\n",
    "columns = ['Nodes number', 'Edges number', 'Labels number']\n",
    "\n",
    "graph_info = pd.DataFrame.from_dict(data, orient='index', columns=columns)\n",
    "graph_info"
   ]
  },
  {
   "cell_type": "code",
   "execution_count": null,
   "id": "35979b0a",
   "metadata": {},
   "outputs": [],
   "source": [
    "data = {name: [graph.nodes_num, graph.edges_num, graph.labels_num] for name, graph in graphs_['Java'].items()}\n",
    "columns = ['Nodes number', 'Edges number', 'Labels number']\n",
    "\n",
    "graph_info = pd.DataFrame.from_dict(data, orient='index', columns=columns)\n",
    "graph_info"
   ]
  },
  {
   "cell_type": "code",
   "execution_count": null,
   "id": "f8517f28",
   "metadata": {},
   "outputs": [],
   "source": [
    "big_graph_names = ['geospecies', 'go', 'enzyme']\n",
    "small_graph_names = list(set(rdf_names) - set(big_graph_names))\n",
    "\n",
    "big_graphs = {name: graphs_['RDF'][name] for name in big_graph_names}\n",
    "small_graphs = {name: graphs_['RDF'][name] for name in small_graph_names}"
   ]
  },
  {
   "cell_type": "code",
   "execution_count": null,
   "id": "ba4e1420",
   "metadata": {},
   "outputs": [],
   "source": [
    "from pyformlang.cfg import CFG\n",
    "from pyformlang.regular_expression.regex_objects import Symbol\n",
    "from pyformlang.regular_expression import Regex\n",
    "\n",
    "def create_regex1(labels):\n",
    "    r1 = str(labels[0])\n",
    "    r2 = str(labels[1])\n",
    "    return Regex(f'({r1}|{r2})*')\n",
    "\n",
    "def create_regex2(labels):\n",
    "    r1 = str(labels[0])\n",
    "    r2 = str(labels[1])\n",
    "    return Regex(f'({r1}|{r2})*.{r1}.({r2}*)')\n",
    "\n",
    "\n",
    "def create_regex3(labels):\n",
    "    r1 = str(labels[0])\n",
    "    r2 = str(labels[1])\n",
    "    return Regex(f'({r1}|{r2})*.{r1}.{r2}.({r1}|{r2})*')\n",
    "\n",
    "\n",
    "def create_regex4(labels):\n",
    "    r1 = str(labels[0])\n",
    "    r2 = str(labels[1])\n",
    "    return Regex(f'{r1}.{r2}.{r2}.r1.({r2}*)')\n",
    "\n",
    "def init_regex_qs(labels):\n",
    "    return [\n",
    "        create_regex1(labels),\n",
    "        create_regex2(labels),\n",
    "        create_regex3(labels),\n",
    "        create_regex4(labels)\n",
    "    ]\n",
    "\n",
    "\n",
    "def create_cfg_from_regex1(labels):\n",
    "    \"\"\"(l1|l2)*\"\"\"\n",
    "    r1 = str(labels[0])\n",
    "    r2 = str(labels[1])\n",
    "    return (f'S -> {r1} S \\n S -> {r2} S \\n S -> epsilon \\n')\n",
    "\n",
    "def create_cfg_from_regex2(labels):\n",
    "    \"\"\"(𝑙1|𝑙2)∗.𝑙1.𝑙2*\"\"\"\n",
    "    r1 = str(labels[0]) \n",
    "    r2 = str(labels[1])\n",
    "    return (f'S -> A B C\\n A -> {r1} A \\n A -> {r2} A \\n A -> epsilon \\n B -> {r1} \\n C -> {r2} C \\n C -> epsilon')\n",
    "\n",
    "def create_cfg_from_regex3(labels):\n",
    "    \"\"\"(𝑙1|𝑙2)∗.𝑙1𝑙2.(𝑙1|𝑙2)∗\"\"\"\n",
    "    r1 = str(labels[0])\n",
    "    r2 = str(labels[1])\n",
    "    return (f'S -> A B A\\n A -> {r1} A \\n A -> {r2} A \\n A -> epsilon \\n B -> {r1} {r2}')\n",
    "\n",
    "def create_cfg_from_regex4(labels):\n",
    "    \"\"\"𝑙1𝑙2𝑙2𝑙1(𝑙2)∗\"\"\"\n",
    "    r1 = str(labels[0])\n",
    "    r2 = str(labels[1])\n",
    "    return (f'S -> A B \\n A -> {r1} {r2} {r1} {r2} \\n B -> {r2} B \\n B -> epsilon')\n",
    "\n",
    "\n",
    "def init_queries(graph, labels):\n",
    "    return [\n",
    "        create_cfg_from_regex1(labels),\n",
    "        create_cfg_from_regex2(labels),\n",
    "        create_cfg_from_regex3(labels),\n",
    "        create_cfg_from_regex4(labels)\n",
    "    ]\n",
    "\n",
    "def init_rdf_cfgs(graph):\n",
    "    return [\n",
    "        \"S -> subClassOf_r S subClassOf | subClassOf_r subClassOf \\n S -> type_r S type | type_r type\",\n",
    "        \"S -> subClassOf_r S subClassOf | subClassOf_r subClassOf\",\n",
    "        \"S -> type_r S type | type_r type\",\n",
    "    ]\n",
    "\n",
    "def init_C_cfgs(graph):\n",
    "    return [\n",
    "        \"\"\"\n",
    "        S -> d_r V d\n",
    "        V -> V1 V2 V3\n",
    "        V1 -> epsilon\n",
    "        V1 -> V2 a_r V1\n",
    "        V2 -> epsilon\n",
    "        V2 -> S\n",
    "        V3 -> epsilon\n",
    "        V3 -> a V2 V3\n",
    "        \"\"\"\n",
    "    ]\n",
    "\n",
    "def init_Java_cfgs(graph):\n",
    "    return [\n",
    "        \"\"\"\n",
    "        S -> PTh alloc\n",
    "        PTh -> epsilon\n",
    "        PTh -> assign PTh\n",
    "        PTh -> load_0 Al store_0 PTh\n",
    "        PTh -> load_1 Al store_1 PTh\n",
    "        FT -> alloc_r FTh\n",
    "        FTh -> epsilon\n",
    "        FTh -> assign_r FTh\n",
    "        FTh -> store_0_r Al load_0_r FTh\n",
    "        FTh -> store_1_r Al load_1_r FTh\n",
    "        Al -> S FT\n",
    "        \"\"\"\n",
    "    ]\n",
    "\n",
    "def create_cfgs(graph, labels):\n",
    "    q_regex = init_queries(graph, labels)\n",
    "    \n",
    "    cfgs = []\n",
    "    q_cfg = []\n",
    "    \n",
    "    for q in q_regex:\n",
    "        cfgs.append(CFG.from_text(q))\n",
    "        \n",
    "    if graph.name in rdf_names:\n",
    "        q_cfg = init_rdf_cfgs(graph)\n",
    "    elif graph.name in с_alias_names:\n",
    "        q_cfg = init_C_cfgs(graph)\n",
    "    elif graph.name in java_analys_names:\n",
    "        q_cfg = init_Java_cfgs(graph)\n",
    "        \n",
    "    for q in q_cfg:\n",
    "            cfgs.append(CFG.from_text(q))\n",
    "    return cfgs"
   ]
  },
  {
   "cell_type": "code",
   "execution_count": null,
   "id": "7d8c5629",
   "metadata": {},
   "outputs": [],
   "source": [
    "regex_queries = {name: init_queries(graph, graph.labels) for name, graph in graphs_['C'].items()}\n",
    "regex_queries_columns = ['regex1', 'regex2', 'regex3', 'regex4']\n",
    "\n",
    "regex_queries_info = pd.DataFrame.from_dict(regex_queries, orient='index', columns=regex_queries_columns)\n",
    "regex_queries_info"
   ]
  },
  {
   "cell_type": "code",
   "execution_count": null,
   "id": "a85768b0",
   "metadata": {},
   "outputs": [],
   "source": [
    "%mkdir benchmark/cfpq_scipy_hellings\n",
    "%mkdir benchmark/cfpq_scipy_matrix\n",
    "%mkdir benchmark/cfpq_scipy_tensor\n",
    "%mkdir benchmark/cfpq_pycubool_matrix\n",
    "%mkdir benchmark/cfpq_pycubool_tensor"
   ]
  },
  {
   "cell_type": "code",
   "execution_count": null,
   "id": "e23f7016",
   "metadata": {},
   "outputs": [],
   "source": [
    "import csv\n",
    "import time\n",
    "import project.cfpq as cpu_cfpq\n",
    "import project.pycubool.cfpq as gpu_cfpq"
   ]
  },
  {
   "cell_type": "code",
   "execution_count": null,
   "id": "4a2eb43a",
   "metadata": {},
   "outputs": [],
   "source": [
    "import signal, time\n",
    "\n",
    "class TimeOutException(Exception):\n",
    "    def __init__(self, message):\n",
    "        super().__init__(message)\n",
    "\n",
    "def signal_handler(signum, frame):\n",
    "    raise TimeOutException(\"Timeout!\") \n",
    "\n",
    "signal.signal(signal.SIGALRM, signal_handler)\n",
    "\n",
    "\n",
    "def measure_cfpq_time(graph, queries, cfpq_algo, num_runs, timeout=0, is_gpu=True):\n",
    "    rows = []\n",
    "    for run_id in range(num_runs):\n",
    "        print(f\"{cfpq_algo}: run_id = {run_id}, graph = {graph.name}\")\n",
    "        isFinish = False\n",
    "        for i, query in enumerate(queries):\n",
    "            start_time = end_time = None\n",
    "            if timeout > 0:\n",
    "                signal.alarm(timeout)\n",
    "            try:\n",
    "                start_time = time.time()\n",
    "                if cfpq_algo == 'matrix':\n",
    "                    if is_gpu:\n",
    "                        gpu_cfpq.matrix_cfpq(graph.graph, query)\n",
    "                    else:\n",
    "                        cpu_cfpq.matrix_cfpq(graph.graph, query)\n",
    "                elif cfpq_algo == 'hellings':\n",
    "                    if is_gpu:\n",
    "                        print(\"WARNING! Hellings does not support GPU version\")\n",
    "                    cpu_cfpq.cfpq_hellings(graph.graph, query)\n",
    "                else:\n",
    "                    if is_gpu:\n",
    "                        gpu_cfpq.tensor_cfpq(graph.graph, query)\n",
    "                    else:\n",
    "                        cpu_cfpq.tensor_cfpq(graph.graph, query)\n",
    "                end_time = time.time()\n",
    "                isFinish = True\n",
    "            except TimeOutException:\n",
    "                print(\"TIME OUT!!!\")\n",
    "                end_time = time.time()\n",
    "                isFinish = False\n",
    "            rows.append({\n",
    "                'Time(s)': end_time - start_time,\n",
    "                'isFinish': isFinish,\n",
    "                'Query': i\n",
    "            })\n",
    "    return rows"
   ]
  },
  {
   "cell_type": "code",
   "execution_count": null,
   "id": "d6b4054a",
   "metadata": {},
   "outputs": [],
   "source": [
    "def write_measurements(path, rows):\n",
    "    fieldnames = ['Query', 'isFinish', 'Time(s)']\n",
    "    with open(path, 'w', encoding='UTF8', newline='') as f:\n",
    "        writer = csv.DictWriter(f, fieldnames=fieldnames)\n",
    "        writer.writeheader()\n",
    "        writer.writerows(rows)\n",
    "\n",
    "def measure_algo_performance(graphs, num_runs, cfpq_algos, timeout=0, is_gpu=True):\n",
    "    for cfpq_name in cfpq_algos:\n",
    "      print(f'Measuring performance of {cfpq_name} algorithm with CUDA: {is_gpu}')\n",
    "      for graph_name, graph in graphs.items():\n",
    "        labels = list(graph.labels)\n",
    "        measurements = measure_cfpq_time(\n",
    "            graph, \n",
    "            create_cfgs(graph, labels),\n",
    "            cfpq_name,\n",
    "            num_runs=num_runs,\n",
    "            timeout=timeout,\n",
    "            is_gpu=is_gpu)\n",
    "        if is_gpu:\n",
    "            #print(f'benchmark/cfpq_pycubool_{cfpq_name}/{graph_name}.csv')\n",
    "            write_measurements(f'benchmark/cfpq_pycubool_{cfpq_name}/{graph_name}.csv', measurements)\n",
    "        else:\n",
    "            write_measurements(f'benchmark/cfpq_scipy_{cfpq_name}/{graph_name}.csv', measurements)"
   ]
  },
  {
   "cell_type": "code",
   "execution_count": null,
   "id": "2a2eaca9",
   "metadata": {},
   "outputs": [],
   "source": []
  },
  {
   "cell_type": "markdown",
   "id": "729b603f",
   "metadata": {},
   "source": [
    "\n",
    "### Производительность на маленьких графах (RDF)"
   ]
  },
  {
   "cell_type": "code",
   "execution_count": null,
   "id": "05a38bee",
   "metadata": {
    "scrolled": true
   },
   "outputs": [],
   "source": [
    "measure_algo_performance(small_graphs, num_runs=10, cfpq_algos=['matrix', 'tensor'], timeout=0, is_gpu=True)"
   ]
  },
  {
   "cell_type": "code",
   "execution_count": null,
   "id": "09d40689",
   "metadata": {
    "scrolled": true
   },
   "outputs": [],
   "source": [
    "measure_algo_performance(small_graphs, num_runs=10, cfpq_algos=['matrix', 'tensor', 'hellings'], timeout=0, is_gpu=False)"
   ]
  },
  {
   "cell_type": "markdown",
   "id": "7bfb61f8",
   "metadata": {},
   "source": [
    "\n",
    "## Производительность на графах C\n"
   ]
  },
  {
   "cell_type": "code",
   "execution_count": null,
   "id": "f809c679",
   "metadata": {},
   "outputs": [],
   "source": [
    "c_graphs = {name: graphs_['C'][name] for name in с_alias_names}"
   ]
  },
  {
   "cell_type": "code",
   "execution_count": null,
   "id": "0ccb764a",
   "metadata": {
    "scrolled": true
   },
   "outputs": [],
   "source": [
    "measure_algo_performance(c_graphs, num_runs=10, cfpq_algos=['matrix', 'tensor'], timeout=0, is_gpu=True)\n",
    "measure_algo_performance(c_graphs, num_runs=10, cfpq_algos=['matrix', 'tensor', 'hellings'], timeout=0, is_gpu=False)"
   ]
  },
  {
   "cell_type": "markdown",
   "id": "9a21feff",
   "metadata": {},
   "source": [
    "## Производительность на графах Java\n"
   ]
  },
  {
   "cell_type": "code",
   "execution_count": null,
   "id": "4679f76a",
   "metadata": {},
   "outputs": [],
   "source": [
    "java_graphs = {name: graphs_['Java'][name] for name in java_analys_names}"
   ]
  },
  {
   "cell_type": "code",
   "execution_count": null,
   "id": "6f08005c",
   "metadata": {},
   "outputs": [],
   "source": [
    "measure_algo_performance(java_graphs, num_runs=10, cfpq_algos=['matrix', 'tensor'], timeout=0, is_gpu=True)\n",
    "# measure_algo_performance(java_graphs, num_runs=10, cfpq_algos=['matrix', 'tensor', 'hellings'], timeout=0, is_gpu=False)"
   ]
  },
  {
   "cell_type": "code",
   "execution_count": null,
   "id": "9e4c762a",
   "metadata": {},
   "outputs": [],
   "source": [
    "measure_algo_performance(java_graphs, num_runs=3, cfpq_algos=['hellings'], timeout=300, is_gpu=False)"
   ]
  },
  {
   "cell_type": "code",
   "execution_count": null,
   "id": "8156ed33",
   "metadata": {},
   "outputs": [],
   "source": [
    "\n",
    "\n"
   ]
  },
  {
   "cell_type": "code",
   "execution_count": null,
   "id": "db403e40",
   "metadata": {},
   "outputs": [],
   "source": []
  },
  {
   "cell_type": "code",
   "execution_count": null,
   "id": "e3d317c0",
   "metadata": {},
   "outputs": [],
   "source": []
  },
  {
   "cell_type": "code",
   "execution_count": null,
   "id": "011376f4",
   "metadata": {},
   "outputs": [],
   "source": []
  },
  {
   "cell_type": "code",
   "execution_count": null,
   "id": "21ba4d91",
   "metadata": {},
   "outputs": [],
   "source": []
  },
  {
   "cell_type": "code",
   "execution_count": null,
   "id": "78737fbe",
   "metadata": {},
   "outputs": [],
   "source": []
  },
  {
   "cell_type": "code",
   "execution_count": null,
   "id": "1c7e1abd",
   "metadata": {},
   "outputs": [],
   "source": []
  },
  {
   "cell_type": "code",
   "execution_count": null,
   "id": "1af6417b",
   "metadata": {},
   "outputs": [],
   "source": []
  },
  {
   "cell_type": "code",
   "execution_count": null,
   "id": "3fb504b6",
   "metadata": {},
   "outputs": [],
   "source": []
  },
  {
   "cell_type": "code",
   "execution_count": null,
   "id": "5e176cba",
   "metadata": {},
   "outputs": [],
   "source": []
  },
  {
   "cell_type": "code",
   "execution_count": null,
   "id": "15acafbb",
   "metadata": {},
   "outputs": [],
   "source": []
  }
 ],
 "metadata": {
  "kernelspec": {
   "display_name": "Python 3 (ipykernel)",
   "language": "python",
   "name": "python3"
  },
  "language_info": {
   "codemirror_mode": {
    "name": "ipython",
    "version": 3
   },
   "file_extension": ".py",
   "mimetype": "text/x-python",
   "name": "python",
   "nbconvert_exporter": "python",
   "pygments_lexer": "ipython3",
   "version": "3.10.6"
  }
 },
 "nbformat": 4,
 "nbformat_minor": 5
}
